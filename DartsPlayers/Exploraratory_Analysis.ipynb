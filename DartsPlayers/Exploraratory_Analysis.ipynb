{
  "nbformat": 4,
  "nbformat_minor": 0,
  "metadata": {
    "colab": {
      "name": "Exploraratory_Analysis.ipynb",
      "provenance": [],
      "collapsed_sections": []
    },
    "kernelspec": {
      "name": "python3",
      "display_name": "Python 3"
    },
    "language_info": {
      "name": "python"
    }
  },
  "cells": [
    {
      "cell_type": "code",
      "metadata": {
        "id": "yAdD35AmlhHZ"
      },
      "source": [
        "import numpy as np\n",
        "import pandas as pd\n",
        "import matplotlib.pyplot as plt\n",
        "import seaborn as sns\n",
        "import os"
      ],
      "execution_count": 1,
      "outputs": []
    },
    {
      "cell_type": "code",
      "metadata": {
        "colab": {
          "base_uri": "https://localhost:8080/"
        },
        "id": "IFWHxBC5l4HX",
        "outputId": "c9eaa09f-1d35-46fa-d329-4ec7561db014"
      },
      "source": [
        "for dirname, _, filenames in os.walk('/content/drive/MyDrive/Datasets/DartsPlayers'):\n",
        "  for filename in filenames:\n",
        "    input_path = os.path.join(dirname, filename)\n",
        "    print(input_path)"
      ],
      "execution_count": 2,
      "outputs": [
        {
          "output_type": "stream",
          "text": [
            "/content/drive/MyDrive/Datasets/DartsPlayers/PlayerProfiles.csv\n",
            "/content/drive/MyDrive/Datasets/DartsPlayers/Top500DartsPlayers.csv\n"
          ],
          "name": "stdout"
        }
      ]
    },
    {
      "cell_type": "code",
      "metadata": {
        "id": "hc6cQCKxmVe5"
      },
      "source": [
        "playerprofiles = pd.read_csv(\"/content/drive/MyDrive/Datasets/DartsPlayers/PlayerProfiles.csv\")\n",
        "topplayers = pd.read_csv(\"/content/drive/MyDrive/Datasets/DartsPlayers/Top500DartsPlayers.csv\")"
      ],
      "execution_count": 3,
      "outputs": []
    },
    {
      "cell_type": "code",
      "metadata": {
        "colab": {
          "base_uri": "https://localhost:8080/",
          "height": 204
        },
        "id": "cOp6m5O5m4A6",
        "outputId": "66f13951-67c6-474c-c65b-be80048bc6c4"
      },
      "source": [
        "playerprofiles.head()"
      ],
      "execution_count": 4,
      "outputs": [
        {
          "output_type": "execute_result",
          "data": {
            "text/html": [
              "<div>\n",
              "<style scoped>\n",
              "    .dataframe tbody tr th:only-of-type {\n",
              "        vertical-align: middle;\n",
              "    }\n",
              "\n",
              "    .dataframe tbody tr th {\n",
              "        vertical-align: top;\n",
              "    }\n",
              "\n",
              "    .dataframe thead th {\n",
              "        text-align: right;\n",
              "    }\n",
              "</style>\n",
              "<table border=\"1\" class=\"dataframe\">\n",
              "  <thead>\n",
              "    <tr style=\"text-align: right;\">\n",
              "      <th></th>\n",
              "      <th>Name :</th>\n",
              "      <th>Country :</th>\n",
              "      <th>Age :</th>\n",
              "      <th>Date Of Birth :</th>\n",
              "      <th>Nickname :</th>\n",
              "      <th>PDC Ranking :</th>\n",
              "      <th>Tour Card :</th>\n",
              "      <th>Career Earnings :</th>\n",
              "    </tr>\n",
              "  </thead>\n",
              "  <tbody>\n",
              "    <tr>\n",
              "      <th>0</th>\n",
              "      <td>Michael van Gerwen</td>\n",
              "      <td>Netherlands</td>\n",
              "      <td>32</td>\n",
              "      <td>4/25/1989</td>\n",
              "      <td>Mighty Mike</td>\n",
              "      <td>1</td>\n",
              "      <td>Yes</td>\n",
              "      <td>£8,321,167</td>\n",
              "    </tr>\n",
              "    <tr>\n",
              "      <th>1</th>\n",
              "      <td>Peter Wright</td>\n",
              "      <td>Scotland</td>\n",
              "      <td>51</td>\n",
              "      <td>3/10/1970</td>\n",
              "      <td>Snake Bite</td>\n",
              "      <td>2</td>\n",
              "      <td>Yes</td>\n",
              "      <td>£3,469,888</td>\n",
              "    </tr>\n",
              "    <tr>\n",
              "      <th>2</th>\n",
              "      <td>Gerwyn Price</td>\n",
              "      <td>Wales</td>\n",
              "      <td>36</td>\n",
              "      <td>3/7/1985</td>\n",
              "      <td>The Iceman</td>\n",
              "      <td>3</td>\n",
              "      <td>Yes</td>\n",
              "      <td>£1,497,803</td>\n",
              "    </tr>\n",
              "    <tr>\n",
              "      <th>3</th>\n",
              "      <td>Adrian Lewis</td>\n",
              "      <td>England</td>\n",
              "      <td>36</td>\n",
              "      <td>1/21/1985</td>\n",
              "      <td>Jackpot</td>\n",
              "      <td>13</td>\n",
              "      <td>Yes</td>\n",
              "      <td>£3,137,634</td>\n",
              "    </tr>\n",
              "    <tr>\n",
              "      <th>4</th>\n",
              "      <td>James Wade</td>\n",
              "      <td>England</td>\n",
              "      <td>38</td>\n",
              "      <td>4/6/1983</td>\n",
              "      <td>The Machine</td>\n",
              "      <td>9</td>\n",
              "      <td>Yes</td>\n",
              "      <td>£3,458,893</td>\n",
              "    </tr>\n",
              "  </tbody>\n",
              "</table>\n",
              "</div>"
            ],
            "text/plain": [
              "               Name :    Country :  ...  Tour Card : Career Earnings :\n",
              "0  Michael van Gerwen  Netherlands  ...          Yes        £8,321,167\n",
              "1        Peter Wright     Scotland  ...          Yes        £3,469,888\n",
              "2        Gerwyn Price        Wales  ...          Yes        £1,497,803\n",
              "3        Adrian Lewis      England  ...          Yes        £3,137,634\n",
              "4          James Wade      England  ...          Yes        £3,458,893\n",
              "\n",
              "[5 rows x 8 columns]"
            ]
          },
          "metadata": {
            "tags": []
          },
          "execution_count": 4
        }
      ]
    },
    {
      "cell_type": "code",
      "metadata": {
        "colab": {
          "base_uri": "https://localhost:8080/"
        },
        "id": "Jjr5RktPnfzx",
        "outputId": "7166111f-e3e6-47da-bd2d-7300e060c999"
      },
      "source": [
        "playerprofiles.shape"
      ],
      "execution_count": 5,
      "outputs": [
        {
          "output_type": "execute_result",
          "data": {
            "text/plain": [
              "(96, 8)"
            ]
          },
          "metadata": {
            "tags": []
          },
          "execution_count": 5
        }
      ]
    },
    {
      "cell_type": "code",
      "metadata": {
        "colab": {
          "base_uri": "https://localhost:8080/",
          "height": 204
        },
        "id": "0ehHbHytnNAV",
        "outputId": "b1580de9-55a8-496a-e51a-1299b3363960"
      },
      "source": [
        "topplayers.head()"
      ],
      "execution_count": 6,
      "outputs": [
        {
          "output_type": "execute_result",
          "data": {
            "text/html": [
              "<div>\n",
              "<style scoped>\n",
              "    .dataframe tbody tr th:only-of-type {\n",
              "        vertical-align: middle;\n",
              "    }\n",
              "\n",
              "    .dataframe tbody tr th {\n",
              "        vertical-align: top;\n",
              "    }\n",
              "\n",
              "    .dataframe thead th {\n",
              "        text-align: right;\n",
              "    }\n",
              "</style>\n",
              "<table border=\"1\" class=\"dataframe\">\n",
              "  <thead>\n",
              "    <tr style=\"text-align: right;\">\n",
              "      <th></th>\n",
              "      <th>Rank</th>\n",
              "      <th>Player</th>\n",
              "      <th>Country</th>\n",
              "      <th>Prize</th>\n",
              "    </tr>\n",
              "  </thead>\n",
              "  <tbody>\n",
              "    <tr>\n",
              "      <th>0</th>\n",
              "      <td>1</td>\n",
              "      <td>Michael van Gerwen</td>\n",
              "      <td>Netherlands</td>\n",
              "      <td>£8,321,167</td>\n",
              "    </tr>\n",
              "    <tr>\n",
              "      <th>1</th>\n",
              "      <td>2</td>\n",
              "      <td>Phil Taylor</td>\n",
              "      <td>England</td>\n",
              "      <td>£7,630,816</td>\n",
              "    </tr>\n",
              "    <tr>\n",
              "      <th>2</th>\n",
              "      <td>3</td>\n",
              "      <td>Gary Anderson</td>\n",
              "      <td>Scotland</td>\n",
              "      <td>£4,118,772</td>\n",
              "    </tr>\n",
              "    <tr>\n",
              "      <th>3</th>\n",
              "      <td>4</td>\n",
              "      <td>Raymond van Barneveld</td>\n",
              "      <td>Netherlands</td>\n",
              "      <td>£3,510,128</td>\n",
              "    </tr>\n",
              "    <tr>\n",
              "      <th>4</th>\n",
              "      <td>5</td>\n",
              "      <td>Peter Wright</td>\n",
              "      <td>Scotland</td>\n",
              "      <td>£3,470,888</td>\n",
              "    </tr>\n",
              "  </tbody>\n",
              "</table>\n",
              "</div>"
            ],
            "text/plain": [
              "   Rank                 Player      Country       Prize\n",
              "0     1     Michael van Gerwen  Netherlands  £8,321,167\n",
              "1     2            Phil Taylor      England  £7,630,816\n",
              "2     3          Gary Anderson     Scotland  £4,118,772\n",
              "3     4  Raymond van Barneveld  Netherlands  £3,510,128\n",
              "4     5           Peter Wright     Scotland  £3,470,888"
            ]
          },
          "metadata": {
            "tags": []
          },
          "execution_count": 6
        }
      ]
    },
    {
      "cell_type": "code",
      "metadata": {
        "colab": {
          "base_uri": "https://localhost:8080/",
          "height": 204
        },
        "id": "x8FTDXoQnPk8",
        "outputId": "2beeb1d2-2790-4ac5-f792-24bfcd70c322"
      },
      "source": [
        "playerprofiles.drop_duplicates()\n",
        "playerprofiles.head()"
      ],
      "execution_count": 7,
      "outputs": [
        {
          "output_type": "execute_result",
          "data": {
            "text/html": [
              "<div>\n",
              "<style scoped>\n",
              "    .dataframe tbody tr th:only-of-type {\n",
              "        vertical-align: middle;\n",
              "    }\n",
              "\n",
              "    .dataframe tbody tr th {\n",
              "        vertical-align: top;\n",
              "    }\n",
              "\n",
              "    .dataframe thead th {\n",
              "        text-align: right;\n",
              "    }\n",
              "</style>\n",
              "<table border=\"1\" class=\"dataframe\">\n",
              "  <thead>\n",
              "    <tr style=\"text-align: right;\">\n",
              "      <th></th>\n",
              "      <th>Name :</th>\n",
              "      <th>Country :</th>\n",
              "      <th>Age :</th>\n",
              "      <th>Date Of Birth :</th>\n",
              "      <th>Nickname :</th>\n",
              "      <th>PDC Ranking :</th>\n",
              "      <th>Tour Card :</th>\n",
              "      <th>Career Earnings :</th>\n",
              "    </tr>\n",
              "  </thead>\n",
              "  <tbody>\n",
              "    <tr>\n",
              "      <th>0</th>\n",
              "      <td>Michael van Gerwen</td>\n",
              "      <td>Netherlands</td>\n",
              "      <td>32</td>\n",
              "      <td>4/25/1989</td>\n",
              "      <td>Mighty Mike</td>\n",
              "      <td>1</td>\n",
              "      <td>Yes</td>\n",
              "      <td>£8,321,167</td>\n",
              "    </tr>\n",
              "    <tr>\n",
              "      <th>1</th>\n",
              "      <td>Peter Wright</td>\n",
              "      <td>Scotland</td>\n",
              "      <td>51</td>\n",
              "      <td>3/10/1970</td>\n",
              "      <td>Snake Bite</td>\n",
              "      <td>2</td>\n",
              "      <td>Yes</td>\n",
              "      <td>£3,469,888</td>\n",
              "    </tr>\n",
              "    <tr>\n",
              "      <th>2</th>\n",
              "      <td>Gerwyn Price</td>\n",
              "      <td>Wales</td>\n",
              "      <td>36</td>\n",
              "      <td>3/7/1985</td>\n",
              "      <td>The Iceman</td>\n",
              "      <td>3</td>\n",
              "      <td>Yes</td>\n",
              "      <td>£1,497,803</td>\n",
              "    </tr>\n",
              "    <tr>\n",
              "      <th>3</th>\n",
              "      <td>Adrian Lewis</td>\n",
              "      <td>England</td>\n",
              "      <td>36</td>\n",
              "      <td>1/21/1985</td>\n",
              "      <td>Jackpot</td>\n",
              "      <td>13</td>\n",
              "      <td>Yes</td>\n",
              "      <td>£3,137,634</td>\n",
              "    </tr>\n",
              "    <tr>\n",
              "      <th>4</th>\n",
              "      <td>James Wade</td>\n",
              "      <td>England</td>\n",
              "      <td>38</td>\n",
              "      <td>4/6/1983</td>\n",
              "      <td>The Machine</td>\n",
              "      <td>9</td>\n",
              "      <td>Yes</td>\n",
              "      <td>£3,458,893</td>\n",
              "    </tr>\n",
              "  </tbody>\n",
              "</table>\n",
              "</div>"
            ],
            "text/plain": [
              "               Name :    Country :  ...  Tour Card : Career Earnings :\n",
              "0  Michael van Gerwen  Netherlands  ...          Yes        £8,321,167\n",
              "1        Peter Wright     Scotland  ...          Yes        £3,469,888\n",
              "2        Gerwyn Price        Wales  ...          Yes        £1,497,803\n",
              "3        Adrian Lewis      England  ...          Yes        £3,137,634\n",
              "4          James Wade      England  ...          Yes        £3,458,893\n",
              "\n",
              "[5 rows x 8 columns]"
            ]
          },
          "metadata": {
            "tags": []
          },
          "execution_count": 7
        }
      ]
    },
    {
      "cell_type": "code",
      "metadata": {
        "colab": {
          "base_uri": "https://localhost:8080/"
        },
        "id": "PuYZwqzWncRE",
        "outputId": "1627e019-a5b2-4a43-e2b5-4528af28a301"
      },
      "source": [
        "playerprofiles.shape"
      ],
      "execution_count": 8,
      "outputs": [
        {
          "output_type": "execute_result",
          "data": {
            "text/plain": [
              "(96, 8)"
            ]
          },
          "metadata": {
            "tags": []
          },
          "execution_count": 8
        }
      ]
    },
    {
      "cell_type": "code",
      "metadata": {
        "id": "H3Y529kRnr6P"
      },
      "source": [
        "import re\n",
        "\n",
        "col_list = []\n",
        "\n",
        "for col in playerprofiles.columns:\n",
        "    pattern= r'^\\s+'\n",
        "    ren = re.sub(\":\", \"\", col)\n",
        "    renamed = re.sub(\" \", \"\", ren)\n",
        "    col_list.append(renamed)"
      ],
      "execution_count": 9,
      "outputs": []
    },
    {
      "cell_type": "code",
      "metadata": {
        "id": "jIPa5CzboTLV"
      },
      "source": [
        "playerprofiles = playerprofiles.rename(columns={playerprofiles.columns[0] : col_list[0],\n",
        "                                                playerprofiles.columns[1] : col_list[1],\n",
        "                                                playerprofiles.columns[2] : col_list[2],\n",
        "                                                playerprofiles.columns[3] : col_list[3],\n",
        "                                                playerprofiles.columns[4] : col_list[4],\n",
        "                                                playerprofiles.columns[5] : col_list[5],\n",
        "                                                playerprofiles.columns[6] : col_list[6],\n",
        "                                                playerprofiles.columns[7] : col_list[7]})"
      ],
      "execution_count": 10,
      "outputs": []
    },
    {
      "cell_type": "code",
      "metadata": {
        "id": "FRoAi450qsz1"
      },
      "source": [
        "topplayers = topplayers.rename(columns=lambda x: x.lower())"
      ],
      "execution_count": 11,
      "outputs": []
    },
    {
      "cell_type": "code",
      "metadata": {
        "colab": {
          "base_uri": "https://localhost:8080/"
        },
        "id": "-3nyXQi4ru3y",
        "outputId": "d4dbab14-a441-4ec6-b6db-43e0c8ce31d8"
      },
      "source": [
        "playerprofiles[col_list[7]]"
      ],
      "execution_count": 12,
      "outputs": [
        {
          "output_type": "execute_result",
          "data": {
            "text/plain": [
              "0     £8,321,167\n",
              "1     £3,469,888\n",
              "2     £1,497,803\n",
              "3     £3,137,634\n",
              "4     £3,458,893\n",
              "         ...    \n",
              "91    £1,497,803\n",
              "92      £104,400\n",
              "93      £179,963\n",
              "94      £343,004\n",
              "95    £1,622,600\n",
              "Name: CareerEarnings, Length: 96, dtype: object"
            ]
          },
          "metadata": {
            "tags": []
          },
          "execution_count": 12
        }
      ]
    },
    {
      "cell_type": "code",
      "metadata": {
        "id": "-VjjG4n3shfR"
      },
      "source": [
        "playerprofiles['CareerEarnings'] = playerprofiles['CareerEarnings'].str.replace(\"£\",\"\").str.replace(\",\",\"\").str.replace(\" \",\"\")"
      ],
      "execution_count": 13,
      "outputs": []
    },
    {
      "cell_type": "code",
      "metadata": {
        "id": "dPyxBbdktlur"
      },
      "source": [
        "playerprofiles['CareerEarnings'] = playerprofiles['CareerEarnings'].astype(int)"
      ],
      "execution_count": 16,
      "outputs": []
    },
    {
      "cell_type": "code",
      "metadata": {
        "id": "cRBAAI9Rtnyr"
      },
      "source": [
        "country_grouped = playerprofiles.groupby('Country', as_index=False).agg({'Name':'count',\n",
        "                                                                         'PDCRanking':'mean',\n",
        "                                                                         'CareerEarnings':'sum'})"
      ],
      "execution_count": 19,
      "outputs": []
    },
    {
      "cell_type": "code",
      "metadata": {
        "id": "LLvXWem_KoK8"
      },
      "source": [
        "country_grouped = country_grouped.rename(columns={'Name':'Total_players', 'PDCRanking':'Avg_PDC'})"
      ],
      "execution_count": 22,
      "outputs": []
    },
    {
      "cell_type": "code",
      "metadata": {
        "id": "y7adF8eYK-oZ"
      },
      "source": [
        "DESC_PDC = country_grouped.sort_values('Avg_PDC', ascending=False, inplace=False, ignore_index=True)\n",
        "DESC_players = country_grouped.sort_values('Total_players', ascending=False, inplace=False, ignore_index=True)\n",
        "DESC_earnings = country_grouped.sort_values('CareerEarnings', ascending=False, inplace=False, ignore_index=True)"
      ],
      "execution_count": 23,
      "outputs": []
    },
    {
      "cell_type": "code",
      "metadata": {
        "colab": {
          "base_uri": "https://localhost:8080/",
          "height": 576
        },
        "id": "xxcramteFapB",
        "outputId": "4cf7b21d-5a4c-4681-be62-3a5cdbb44ca2"
      },
      "source": [
        "DESC_PDC"
      ],
      "execution_count": 24,
      "outputs": [
        {
          "output_type": "execute_result",
          "data": {
            "text/html": [
              "<div>\n",
              "<style scoped>\n",
              "    .dataframe tbody tr th:only-of-type {\n",
              "        vertical-align: middle;\n",
              "    }\n",
              "\n",
              "    .dataframe tbody tr th {\n",
              "        vertical-align: top;\n",
              "    }\n",
              "\n",
              "    .dataframe thead th {\n",
              "        text-align: right;\n",
              "    }\n",
              "</style>\n",
              "<table border=\"1\" class=\"dataframe\">\n",
              "  <thead>\n",
              "    <tr style=\"text-align: right;\">\n",
              "      <th></th>\n",
              "      <th>Country</th>\n",
              "      <th>Total_players</th>\n",
              "      <th>Avg_PDC</th>\n",
              "      <th>CareerEarnings</th>\n",
              "    </tr>\n",
              "  </thead>\n",
              "  <tbody>\n",
              "    <tr>\n",
              "      <th>0</th>\n",
              "      <td>Brazil</td>\n",
              "      <td>1</td>\n",
              "      <td>153.000000</td>\n",
              "      <td>59367</td>\n",
              "    </tr>\n",
              "    <tr>\n",
              "      <th>1</th>\n",
              "      <td>Canada</td>\n",
              "      <td>1</td>\n",
              "      <td>92.000000</td>\n",
              "      <td>123511</td>\n",
              "    </tr>\n",
              "    <tr>\n",
              "      <th>2</th>\n",
              "      <td>Greece</td>\n",
              "      <td>1</td>\n",
              "      <td>88.000000</td>\n",
              "      <td>99056</td>\n",
              "    </tr>\n",
              "    <tr>\n",
              "      <th>3</th>\n",
              "      <td>Belgium</td>\n",
              "      <td>5</td>\n",
              "      <td>70.800000</td>\n",
              "      <td>3267714</td>\n",
              "    </tr>\n",
              "    <tr>\n",
              "      <th>4</th>\n",
              "      <td>Latvia</td>\n",
              "      <td>1</td>\n",
              "      <td>69.000000</td>\n",
              "      <td>105677</td>\n",
              "    </tr>\n",
              "    <tr>\n",
              "      <th>5</th>\n",
              "      <td>England</td>\n",
              "      <td>43</td>\n",
              "      <td>58.837209</td>\n",
              "      <td>28317701</td>\n",
              "    </tr>\n",
              "    <tr>\n",
              "      <th>6</th>\n",
              "      <td>South Africa</td>\n",
              "      <td>1</td>\n",
              "      <td>54.000000</td>\n",
              "      <td>228784</td>\n",
              "    </tr>\n",
              "    <tr>\n",
              "      <th>7</th>\n",
              "      <td>Spain</td>\n",
              "      <td>2</td>\n",
              "      <td>54.000000</td>\n",
              "      <td>525187</td>\n",
              "    </tr>\n",
              "    <tr>\n",
              "      <th>8</th>\n",
              "      <td>Lithuania</td>\n",
              "      <td>1</td>\n",
              "      <td>50.000000</td>\n",
              "      <td>184407</td>\n",
              "    </tr>\n",
              "    <tr>\n",
              "      <th>9</th>\n",
              "      <td>Netherlands</td>\n",
              "      <td>14</td>\n",
              "      <td>39.857143</td>\n",
              "      <td>31069400</td>\n",
              "    </tr>\n",
              "    <tr>\n",
              "      <th>10</th>\n",
              "      <td>Germany</td>\n",
              "      <td>2</td>\n",
              "      <td>37.500000</td>\n",
              "      <td>619111</td>\n",
              "    </tr>\n",
              "    <tr>\n",
              "      <th>11</th>\n",
              "      <td>Ireland</td>\n",
              "      <td>1</td>\n",
              "      <td>37.000000</td>\n",
              "      <td>306178</td>\n",
              "    </tr>\n",
              "    <tr>\n",
              "      <th>12</th>\n",
              "      <td>Wales</td>\n",
              "      <td>5</td>\n",
              "      <td>35.200000</td>\n",
              "      <td>4157701</td>\n",
              "    </tr>\n",
              "    <tr>\n",
              "      <th>13</th>\n",
              "      <td>Austria</td>\n",
              "      <td>3</td>\n",
              "      <td>31.333333</td>\n",
              "      <td>3065295</td>\n",
              "    </tr>\n",
              "    <tr>\n",
              "      <th>14</th>\n",
              "      <td>Northern Ireland</td>\n",
              "      <td>4</td>\n",
              "      <td>30.500000</td>\n",
              "      <td>3269201</td>\n",
              "    </tr>\n",
              "    <tr>\n",
              "      <th>15</th>\n",
              "      <td>Scotland</td>\n",
              "      <td>8</td>\n",
              "      <td>25.000000</td>\n",
              "      <td>18228950</td>\n",
              "    </tr>\n",
              "    <tr>\n",
              "      <th>16</th>\n",
              "      <td>Australia</td>\n",
              "      <td>3</td>\n",
              "      <td>24.333333</td>\n",
              "      <td>4812174</td>\n",
              "    </tr>\n",
              "  </tbody>\n",
              "</table>\n",
              "</div>"
            ],
            "text/plain": [
              "             Country  Total_players     Avg_PDC  CareerEarnings\n",
              "0             Brazil              1  153.000000           59367\n",
              "1             Canada              1   92.000000          123511\n",
              "2             Greece              1   88.000000           99056\n",
              "3            Belgium              5   70.800000         3267714\n",
              "4             Latvia              1   69.000000          105677\n",
              "5            England             43   58.837209        28317701\n",
              "6       South Africa              1   54.000000          228784\n",
              "7              Spain              2   54.000000          525187\n",
              "8          Lithuania              1   50.000000          184407\n",
              "9        Netherlands             14   39.857143        31069400\n",
              "10           Germany              2   37.500000          619111\n",
              "11           Ireland              1   37.000000          306178\n",
              "12             Wales              5   35.200000         4157701\n",
              "13           Austria              3   31.333333         3065295\n",
              "14  Northern Ireland              4   30.500000         3269201\n",
              "15          Scotland              8   25.000000        18228950\n",
              "16         Australia              3   24.333333         4812174"
            ]
          },
          "metadata": {
            "tags": []
          },
          "execution_count": 24
        }
      ]
    },
    {
      "cell_type": "code",
      "metadata": {
        "colab": {
          "base_uri": "https://localhost:8080/",
          "height": 577
        },
        "id": "wyOCjnqAGACI",
        "outputId": "38ce2834-e3c4-426b-ddf3-d6f3374b4151"
      },
      "source": [
        "plt.figure(figsize=(25, 15))\n",
        "ax =sns.barplot(x=DESC_PDC['Country'], y=DESC_PDC['Avg_PDC'])"
      ],
      "execution_count": 30,
      "outputs": [
        {
          "output_type": "display_data",
          "data": {
            "image/png": "[encoded data removed]",
            "text/plain": [
              "<Figure size 1800x1080 with 1 Axes>"
            ]
          },
          "metadata": {
            "tags": [],
            "needs_background": "light"
          }
        }
      ]
    },
    {
      "cell_type": "code",
      "metadata": {
        "colab": {
          "base_uri": "https://localhost:8080/",
          "height": 576
        },
        "id": "rjaw3q-dFpGV",
        "outputId": "c2cd3b96-8d0d-41a1-b429-bcb47b83f121"
      },
      "source": [
        "DESC_players "
      ],
      "execution_count": 25,
      "outputs": [
        {
          "output_type": "execute_result",
          "data": {
            "text/html": [
              "<div>\n",
              "<style scoped>\n",
              "    .dataframe tbody tr th:only-of-type {\n",
              "        vertical-align: middle;\n",
              "    }\n",
              "\n",
              "    .dataframe tbody tr th {\n",
              "        vertical-align: top;\n",
              "    }\n",
              "\n",
              "    .dataframe thead th {\n",
              "        text-align: right;\n",
              "    }\n",
              "</style>\n",
              "<table border=\"1\" class=\"dataframe\">\n",
              "  <thead>\n",
              "    <tr style=\"text-align: right;\">\n",
              "      <th></th>\n",
              "      <th>Country</th>\n",
              "      <th>Total_players</th>\n",
              "      <th>Avg_PDC</th>\n",
              "      <th>CareerEarnings</th>\n",
              "    </tr>\n",
              "  </thead>\n",
              "  <tbody>\n",
              "    <tr>\n",
              "      <th>0</th>\n",
              "      <td>England</td>\n",
              "      <td>43</td>\n",
              "      <td>58.837209</td>\n",
              "      <td>28317701</td>\n",
              "    </tr>\n",
              "    <tr>\n",
              "      <th>1</th>\n",
              "      <td>Netherlands</td>\n",
              "      <td>14</td>\n",
              "      <td>39.857143</td>\n",
              "      <td>31069400</td>\n",
              "    </tr>\n",
              "    <tr>\n",
              "      <th>2</th>\n",
              "      <td>Scotland</td>\n",
              "      <td>8</td>\n",
              "      <td>25.000000</td>\n",
              "      <td>18228950</td>\n",
              "    </tr>\n",
              "    <tr>\n",
              "      <th>3</th>\n",
              "      <td>Wales</td>\n",
              "      <td>5</td>\n",
              "      <td>35.200000</td>\n",
              "      <td>4157701</td>\n",
              "    </tr>\n",
              "    <tr>\n",
              "      <th>4</th>\n",
              "      <td>Belgium</td>\n",
              "      <td>5</td>\n",
              "      <td>70.800000</td>\n",
              "      <td>3267714</td>\n",
              "    </tr>\n",
              "    <tr>\n",
              "      <th>5</th>\n",
              "      <td>Northern Ireland</td>\n",
              "      <td>4</td>\n",
              "      <td>30.500000</td>\n",
              "      <td>3269201</td>\n",
              "    </tr>\n",
              "    <tr>\n",
              "      <th>6</th>\n",
              "      <td>Austria</td>\n",
              "      <td>3</td>\n",
              "      <td>31.333333</td>\n",
              "      <td>3065295</td>\n",
              "    </tr>\n",
              "    <tr>\n",
              "      <th>7</th>\n",
              "      <td>Australia</td>\n",
              "      <td>3</td>\n",
              "      <td>24.333333</td>\n",
              "      <td>4812174</td>\n",
              "    </tr>\n",
              "    <tr>\n",
              "      <th>8</th>\n",
              "      <td>Germany</td>\n",
              "      <td>2</td>\n",
              "      <td>37.500000</td>\n",
              "      <td>619111</td>\n",
              "    </tr>\n",
              "    <tr>\n",
              "      <th>9</th>\n",
              "      <td>Spain</td>\n",
              "      <td>2</td>\n",
              "      <td>54.000000</td>\n",
              "      <td>525187</td>\n",
              "    </tr>\n",
              "    <tr>\n",
              "      <th>10</th>\n",
              "      <td>Greece</td>\n",
              "      <td>1</td>\n",
              "      <td>88.000000</td>\n",
              "      <td>99056</td>\n",
              "    </tr>\n",
              "    <tr>\n",
              "      <th>11</th>\n",
              "      <td>Latvia</td>\n",
              "      <td>1</td>\n",
              "      <td>69.000000</td>\n",
              "      <td>105677</td>\n",
              "    </tr>\n",
              "    <tr>\n",
              "      <th>12</th>\n",
              "      <td>Lithuania</td>\n",
              "      <td>1</td>\n",
              "      <td>50.000000</td>\n",
              "      <td>184407</td>\n",
              "    </tr>\n",
              "    <tr>\n",
              "      <th>13</th>\n",
              "      <td>Canada</td>\n",
              "      <td>1</td>\n",
              "      <td>92.000000</td>\n",
              "      <td>123511</td>\n",
              "    </tr>\n",
              "    <tr>\n",
              "      <th>14</th>\n",
              "      <td>Brazil</td>\n",
              "      <td>1</td>\n",
              "      <td>153.000000</td>\n",
              "      <td>59367</td>\n",
              "    </tr>\n",
              "    <tr>\n",
              "      <th>15</th>\n",
              "      <td>South Africa</td>\n",
              "      <td>1</td>\n",
              "      <td>54.000000</td>\n",
              "      <td>228784</td>\n",
              "    </tr>\n",
              "    <tr>\n",
              "      <th>16</th>\n",
              "      <td>Ireland</td>\n",
              "      <td>1</td>\n",
              "      <td>37.000000</td>\n",
              "      <td>306178</td>\n",
              "    </tr>\n",
              "  </tbody>\n",
              "</table>\n",
              "</div>"
            ],
            "text/plain": [
              "             Country  Total_players     Avg_PDC  CareerEarnings\n",
              "0            England             43   58.837209        28317701\n",
              "1        Netherlands             14   39.857143        31069400\n",
              "2           Scotland              8   25.000000        18228950\n",
              "3              Wales              5   35.200000         4157701\n",
              "4            Belgium              5   70.800000         3267714\n",
              "5   Northern Ireland              4   30.500000         3269201\n",
              "6            Austria              3   31.333333         3065295\n",
              "7          Australia              3   24.333333         4812174\n",
              "8            Germany              2   37.500000          619111\n",
              "9              Spain              2   54.000000          525187\n",
              "10            Greece              1   88.000000           99056\n",
              "11            Latvia              1   69.000000          105677\n",
              "12         Lithuania              1   50.000000          184407\n",
              "13            Canada              1   92.000000          123511\n",
              "14            Brazil              1  153.000000           59367\n",
              "15      South Africa              1   54.000000          228784\n",
              "16           Ireland              1   37.000000          306178"
            ]
          },
          "metadata": {
            "tags": []
          },
          "execution_count": 25
        }
      ]
    },
    {
      "cell_type": "code",
      "metadata": {
        "colab": {
          "base_uri": "https://localhost:8080/",
          "height": 579
        },
        "id": "xu_MYf6FHPFJ",
        "outputId": "83c2a6ce-1b9b-4683-a7a2-0b1447497d5f"
      },
      "source": [
        "plt.figure(figsize=(25, 15))\n",
        "ax =sns.barplot(x=DESC_players['Country'], y=DESC_players['Total_players'])"
      ],
      "execution_count": 32,
      "outputs": [
        {
          "output_type": "display_data",
          "data": {
            "image/png": "[encoded data removed]",
            "text/plain": [
              "<Figure size 1800x1080 with 1 Axes>"
            ]
          },
          "metadata": {
            "tags": [],
            "needs_background": "light"
          }
        }
      ]
    },
    {
      "cell_type": "code",
      "metadata": {
        "colab": {
          "base_uri": "https://localhost:8080/",
          "height": 576
        },
        "id": "l3TpTUQqFvtr",
        "outputId": "af29fcfb-1f02-4e2d-d2ed-574659771c86"
      },
      "source": [
        "DESC_earnings"
      ],
      "execution_count": 26,
      "outputs": [
        {
          "output_type": "execute_result",
          "data": {
            "text/html": [
              "<div>\n",
              "<style scoped>\n",
              "    .dataframe tbody tr th:only-of-type {\n",
              "        vertical-align: middle;\n",
              "    }\n",
              "\n",
              "    .dataframe tbody tr th {\n",
              "        vertical-align: top;\n",
              "    }\n",
              "\n",
              "    .dataframe thead th {\n",
              "        text-align: right;\n",
              "    }\n",
              "</style>\n",
              "<table border=\"1\" class=\"dataframe\">\n",
              "  <thead>\n",
              "    <tr style=\"text-align: right;\">\n",
              "      <th></th>\n",
              "      <th>Country</th>\n",
              "      <th>Total_players</th>\n",
              "      <th>Avg_PDC</th>\n",
              "      <th>CareerEarnings</th>\n",
              "    </tr>\n",
              "  </thead>\n",
              "  <tbody>\n",
              "    <tr>\n",
              "      <th>0</th>\n",
              "      <td>Netherlands</td>\n",
              "      <td>14</td>\n",
              "      <td>39.857143</td>\n",
              "      <td>31069400</td>\n",
              "    </tr>\n",
              "    <tr>\n",
              "      <th>1</th>\n",
              "      <td>England</td>\n",
              "      <td>43</td>\n",
              "      <td>58.837209</td>\n",
              "      <td>28317701</td>\n",
              "    </tr>\n",
              "    <tr>\n",
              "      <th>2</th>\n",
              "      <td>Scotland</td>\n",
              "      <td>8</td>\n",
              "      <td>25.000000</td>\n",
              "      <td>18228950</td>\n",
              "    </tr>\n",
              "    <tr>\n",
              "      <th>3</th>\n",
              "      <td>Australia</td>\n",
              "      <td>3</td>\n",
              "      <td>24.333333</td>\n",
              "      <td>4812174</td>\n",
              "    </tr>\n",
              "    <tr>\n",
              "      <th>4</th>\n",
              "      <td>Wales</td>\n",
              "      <td>5</td>\n",
              "      <td>35.200000</td>\n",
              "      <td>4157701</td>\n",
              "    </tr>\n",
              "    <tr>\n",
              "      <th>5</th>\n",
              "      <td>Northern Ireland</td>\n",
              "      <td>4</td>\n",
              "      <td>30.500000</td>\n",
              "      <td>3269201</td>\n",
              "    </tr>\n",
              "    <tr>\n",
              "      <th>6</th>\n",
              "      <td>Belgium</td>\n",
              "      <td>5</td>\n",
              "      <td>70.800000</td>\n",
              "      <td>3267714</td>\n",
              "    </tr>\n",
              "    <tr>\n",
              "      <th>7</th>\n",
              "      <td>Austria</td>\n",
              "      <td>3</td>\n",
              "      <td>31.333333</td>\n",
              "      <td>3065295</td>\n",
              "    </tr>\n",
              "    <tr>\n",
              "      <th>8</th>\n",
              "      <td>Germany</td>\n",
              "      <td>2</td>\n",
              "      <td>37.500000</td>\n",
              "      <td>619111</td>\n",
              "    </tr>\n",
              "    <tr>\n",
              "      <th>9</th>\n",
              "      <td>Spain</td>\n",
              "      <td>2</td>\n",
              "      <td>54.000000</td>\n",
              "      <td>525187</td>\n",
              "    </tr>\n",
              "    <tr>\n",
              "      <th>10</th>\n",
              "      <td>Ireland</td>\n",
              "      <td>1</td>\n",
              "      <td>37.000000</td>\n",
              "      <td>306178</td>\n",
              "    </tr>\n",
              "    <tr>\n",
              "      <th>11</th>\n",
              "      <td>South Africa</td>\n",
              "      <td>1</td>\n",
              "      <td>54.000000</td>\n",
              "      <td>228784</td>\n",
              "    </tr>\n",
              "    <tr>\n",
              "      <th>12</th>\n",
              "      <td>Lithuania</td>\n",
              "      <td>1</td>\n",
              "      <td>50.000000</td>\n",
              "      <td>184407</td>\n",
              "    </tr>\n",
              "    <tr>\n",
              "      <th>13</th>\n",
              "      <td>Canada</td>\n",
              "      <td>1</td>\n",
              "      <td>92.000000</td>\n",
              "      <td>123511</td>\n",
              "    </tr>\n",
              "    <tr>\n",
              "      <th>14</th>\n",
              "      <td>Latvia</td>\n",
              "      <td>1</td>\n",
              "      <td>69.000000</td>\n",
              "      <td>105677</td>\n",
              "    </tr>\n",
              "    <tr>\n",
              "      <th>15</th>\n",
              "      <td>Greece</td>\n",
              "      <td>1</td>\n",
              "      <td>88.000000</td>\n",
              "      <td>99056</td>\n",
              "    </tr>\n",
              "    <tr>\n",
              "      <th>16</th>\n",
              "      <td>Brazil</td>\n",
              "      <td>1</td>\n",
              "      <td>153.000000</td>\n",
              "      <td>59367</td>\n",
              "    </tr>\n",
              "  </tbody>\n",
              "</table>\n",
              "</div>"
            ],
            "text/plain": [
              "             Country  Total_players     Avg_PDC  CareerEarnings\n",
              "0        Netherlands             14   39.857143        31069400\n",
              "1            England             43   58.837209        28317701\n",
              "2           Scotland              8   25.000000        18228950\n",
              "3          Australia              3   24.333333         4812174\n",
              "4              Wales              5   35.200000         4157701\n",
              "5   Northern Ireland              4   30.500000         3269201\n",
              "6            Belgium              5   70.800000         3267714\n",
              "7            Austria              3   31.333333         3065295\n",
              "8            Germany              2   37.500000          619111\n",
              "9              Spain              2   54.000000          525187\n",
              "10           Ireland              1   37.000000          306178\n",
              "11      South Africa              1   54.000000          228784\n",
              "12         Lithuania              1   50.000000          184407\n",
              "13            Canada              1   92.000000          123511\n",
              "14            Latvia              1   69.000000          105677\n",
              "15            Greece              1   88.000000           99056\n",
              "16            Brazil              1  153.000000           59367"
            ]
          },
          "metadata": {
            "tags": []
          },
          "execution_count": 26
        }
      ]
    },
    {
      "cell_type": "code",
      "metadata": {
        "colab": {
          "base_uri": "https://localhost:8080/",
          "height": 585
        },
        "id": "GOx0lZyPFwMC",
        "outputId": "f1d58eca-c40f-4d0b-b39b-96b5d75b7341"
      },
      "source": [
        "plt.figure(figsize=(25, 15))\n",
        "ax =sns.barplot(x=DESC_earnings['Country'], y=DESC_earnings['CareerEarnings'])"
      ],
      "execution_count": 33,
      "outputs": [
        {
          "output_type": "display_data",
          "data": {
            "image/png": "[encoded data removed]",
            "text/plain": [
              "<Figure size 1800x1080 with 1 Axes>"
            ]
          },
          "metadata": {
            "tags": [],
            "needs_background": "light"
          }
        }
      ]
    },
    {
      "cell_type": "code",
      "metadata": {
        "colab": {
          "base_uri": "https://localhost:8080/",
          "height": 382
        },
        "id": "O3bKhHK0Hi9m",
        "outputId": "e69d0fc8-9149-44a9-d6fc-e8d428d6fc0f"
      },
      "source": [
        "sns.set_theme(style=\"darkgrid\")\n",
        "ax = sns.relplot(x=DESC_earnings[\"Total_players\"], y=DESC_earnings[\"CareerEarnings\"], kind=\"line\")"
      ],
      "execution_count": 44,
      "outputs": [
        {
          "output_type": "display_data",
          "data": {
            "image/png": "[encoded data removed]",
            "text/plain": [
              "<Figure size 360x360 with 1 Axes>"
            ]
          },
          "metadata": {
            "tags": []
          }
        }
      ]
    },
    {
      "cell_type": "code",
      "metadata": {
        "id": "ZIJgkuChIgJB"
      },
      "source": [
        "age_grouped = playerprofiles.groupby('Age', as_index=False).agg({'Name':'count',\n",
        "                                                                 'CareerEarnings':'sum'})"
      ],
      "execution_count": 47,
      "outputs": []
    },
    {
      "cell_type": "code",
      "metadata": {
        "id": "QtXPtB3QI_tl"
      },
      "source": [
        "age_grouped = age_grouped.rename(columns={'Name':'Total_players'})"
      ],
      "execution_count": 48,
      "outputs": []
    },
    {
      "cell_type": "code",
      "metadata": {
        "colab": {
          "base_uri": "https://localhost:8080/",
          "height": 80
        },
        "id": "rAttDzU5I_T-",
        "outputId": "9ab2bcc7-93d4-459e-a2e5-5c135db02615"
      },
      "source": [
        "age_grouped.head(1)"
      ],
      "execution_count": 49,
      "outputs": [
        {
          "output_type": "execute_result",
          "data": {
            "text/html": [
              "<div>\n",
              "<style scoped>\n",
              "    .dataframe tbody tr th:only-of-type {\n",
              "        vertical-align: middle;\n",
              "    }\n",
              "\n",
              "    .dataframe tbody tr th {\n",
              "        vertical-align: top;\n",
              "    }\n",
              "\n",
              "    .dataframe thead th {\n",
              "        text-align: right;\n",
              "    }\n",
              "</style>\n",
              "<table border=\"1\" class=\"dataframe\">\n",
              "  <thead>\n",
              "    <tr style=\"text-align: right;\">\n",
              "      <th></th>\n",
              "      <th>Age</th>\n",
              "      <th>Total_players</th>\n",
              "      <th>CareerEarnings</th>\n",
              "    </tr>\n",
              "  </thead>\n",
              "  <tbody>\n",
              "    <tr>\n",
              "      <th>0</th>\n",
              "      <td>24</td>\n",
              "      <td>2</td>\n",
              "      <td>619111</td>\n",
              "    </tr>\n",
              "  </tbody>\n",
              "</table>\n",
              "</div>"
            ],
            "text/plain": [
              "   Age  Total_players  CareerEarnings\n",
              "0   24              2          619111"
            ]
          },
          "metadata": {
            "tags": []
          },
          "execution_count": 49
        }
      ]
    },
    {
      "cell_type": "code",
      "metadata": {
        "id": "u0cR7dynJqnc"
      },
      "source": [
        "DESC_Age = age_grouped.sort_values('Age', ascending=True, inplace=False, ignore_index=True)"
      ],
      "execution_count": 50,
      "outputs": []
    },
    {
      "cell_type": "code",
      "metadata": {
        "colab": {
          "base_uri": "https://localhost:8080/",
          "height": 399
        },
        "id": "9hNPAbwQKd5v",
        "outputId": "39435897-65f9-45ee-8c8f-2ecd20c31c80"
      },
      "source": [
        "sns.set_theme(style=\"darkgrid\")\n",
        "sns.relplot(x=age_grouped[\"Age\"], y=age_grouped[\"Total_players\"], data=DESC_Age, kind='line')"
      ],
      "execution_count": 56,
      "outputs": [
        {
          "output_type": "execute_result",
          "data": {
            "text/plain": [
              "<seaborn.axisgrid.FacetGrid at 0x7efd5b69df50>"
            ]
          },
          "metadata": {
            "tags": []
          },
          "execution_count": 56
        },
        {
          "output_type": "display_data",
          "data": {
            "image/png": "[encoded data removed]",
            "text/plain": [
              "<Figure size 360x360 with 1 Axes>"
            ]
          },
          "metadata": {
            "tags": []
          }
        }
      ]
    },
    {
      "cell_type": "code",
      "metadata": {
        "colab": {
          "base_uri": "https://localhost:8080/",
          "height": 399
        },
        "id": "VAvE3Vb6Kfov",
        "outputId": "73be37a1-d0b2-425d-ea8a-0c6ae89896c7"
      },
      "source": [
        "sns.set_theme(style=\"darkgrid\")\n",
        "sns.relplot(x=age_grouped[\"Age\"], y=age_grouped[\"CareerEarnings\"], data=DESC_Age, kind='line')"
      ],
      "execution_count": 57,
      "outputs": [
        {
          "output_type": "execute_result",
          "data": {
            "text/plain": [
              "<seaborn.axisgrid.FacetGrid at 0x7efd5b5bf610>"
            ]
          },
          "metadata": {
            "tags": []
          },
          "execution_count": 57
        },
        {
          "output_type": "display_data",
          "data": {
            "image/png": "[encoded data removed]",
            "text/plain": [
              "<Figure size 360x360 with 1 Axes>"
            ]
          },
          "metadata": {
            "tags": []
          }
        }
      ]
    },
    {
      "cell_type": "code",
      "metadata": {
        "id": "Vwlx93JbMIlN"
      },
      "source": [
        ""
      ],
      "execution_count": null,
      "outputs": []
    }
  ]
}